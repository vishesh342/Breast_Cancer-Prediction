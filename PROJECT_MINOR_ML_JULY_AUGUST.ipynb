{
  "nbformat": 4,
  "nbformat_minor": 0,
  "metadata": {
    "colab": {
      "name": "PROJECT-MINOR-ML-JULY AUGUST.ipynb",
      "provenance": [],
      "collapsed_sections": [
        "2PxfJV6Pko3D",
        "5jpez6bHfSgd",
        "22g5VOdKgFdj",
        "K-wtTDO5gVW2",
        "e7Pd18z6ghSp",
        "mxGvT-2bgsRq",
        "2UpMafvEiyZg",
        "Pj03eMWCjDlh",
        "KH7uGE46jNOz"
      ],
      "mount_file_id": "1lzunmkBa0bpD6fOW6XA_d1I4YJTHhgSh",
      "authorship_tag": "ABX9TyNuDMC9nKYcJLEO2/Jub4NI",
      "include_colab_link": true
    },
    "kernelspec": {
      "name": "python3",
      "display_name": "Python 3"
    }
  },
  "cells": [
    {
      "cell_type": "markdown",
      "metadata": {
        "id": "view-in-github",
        "colab_type": "text"
      },
      "source": [
        "<a href=\"https://colab.research.google.com/github/vishesh342/PROJECT_MINOR_ML_JULY_AUGUST/blob/master/PROJECT_MINOR_ML_JULY_AUGUST.ipynb\" target=\"_parent\"><img src=\"https://colab.research.google.com/assets/colab-badge.svg\" alt=\"Open In Colab\"/></a>"
      ]
    },
    {
      "cell_type": "markdown",
      "metadata": {
        "id": "2PxfJV6Pko3D",
        "colab_type": "text"
      },
      "source": [
        "#**BREAST CANCER PREDICTION**"
      ]
    },
    {
      "cell_type": "markdown",
      "metadata": {
        "id": "5jpez6bHfSgd",
        "colab_type": "text"
      },
      "source": [
        "#IMPORTING REQUIRED LIBRERIES"
      ]
    },
    {
      "cell_type": "code",
      "metadata": {
        "id": "cJT-mgV73sG3",
        "colab_type": "code",
        "colab": {}
      },
      "source": [
        "import numpy as np\n",
        "import pandas as pd\n",
        "import matplotlib.pyplot as plt\n",
        "\n",
        "from sklearn.model_selection import train_test_split\n",
        "from sklearn.model_selection import cross_val_score\n",
        "from sklearn.ensemble import RandomForestClassifier\n",
        "import seaborn as sns"
      ],
      "execution_count": 122,
      "outputs": []
    },
    {
      "cell_type": "code",
      "metadata": {
        "id": "gyorl5NbfgZM",
        "colab_type": "code",
        "colab": {}
      },
      "source": [
        ""
      ],
      "execution_count": null,
      "outputs": []
    },
    {
      "cell_type": "markdown",
      "metadata": {
        "id": "X4WZ-Qn_fiZ8",
        "colab_type": "text"
      },
      "source": [
        "**READING DATA**"
      ]
    },
    {
      "cell_type": "code",
      "metadata": {
        "id": "zccgl5qq7PKW",
        "colab_type": "code",
        "colab": {}
      },
      "source": [
        "\n",
        "df=pd.read_csv('/content/drive/My Drive/Colab Notebooks/breast_cancer_data.csv')"
      ],
      "execution_count": 80,
      "outputs": []
    },
    {
      "cell_type": "code",
      "metadata": {
        "id": "TLMTA7LcffqB",
        "colab_type": "code",
        "colab": {}
      },
      "source": [
        ""
      ],
      "execution_count": null,
      "outputs": []
    },
    {
      "cell_type": "code",
      "metadata": {
        "id": "UsNDwsBg9BdB",
        "colab_type": "code",
        "colab": {}
      },
      "source": [
        "df.head()"
      ],
      "execution_count": null,
      "outputs": []
    },
    {
      "cell_type": "markdown",
      "metadata": {
        "id": "rmUIyOwOfyd8",
        "colab_type": "text"
      },
      "source": [
        " **GATHERING INFORMATION ABOUT THE NIL VALUES**\n"
      ]
    },
    {
      "cell_type": "code",
      "metadata": {
        "id": "mdAzFqvU_EZb",
        "colab_type": "code",
        "colab": {
          "base_uri": "https://localhost:8080/",
          "height": 655
        },
        "outputId": "b21e78e7-cdd9-4b34-eefe-2b33585215db"
      },
      "source": [
        "df.info()"
      ],
      "execution_count": 148,
      "outputs": [
        {
          "output_type": "stream",
          "text": [
            "<class 'pandas.core.frame.DataFrame'>\n",
            "RangeIndex: 569 entries, 0 to 568\n",
            "Data columns (total 31 columns):\n",
            " #   Column                   Non-Null Count  Dtype  \n",
            "---  ------                   --------------  -----  \n",
            " 0   diagnosis                569 non-null    int64  \n",
            " 1   radius_mean              569 non-null    float64\n",
            " 2   texture_mean             569 non-null    float64\n",
            " 3   perimeter_mean           569 non-null    float64\n",
            " 4   area_mean                569 non-null    float64\n",
            " 5   smoothness_mean          569 non-null    float64\n",
            " 6   compactness_mean         569 non-null    float64\n",
            " 7   concavity_mean           569 non-null    float64\n",
            " 8   concave points_mean      569 non-null    float64\n",
            " 9   symmetry_mean            569 non-null    float64\n",
            " 10  fractal_dimension_mean   569 non-null    float64\n",
            " 11  radius_se                569 non-null    float64\n",
            " 12  texture_se               569 non-null    float64\n",
            " 13  perimeter_se             569 non-null    float64\n",
            " 14  area_se                  569 non-null    float64\n",
            " 15  smoothness_se            569 non-null    float64\n",
            " 16  compactness_se           569 non-null    float64\n",
            " 17  concavity_se             569 non-null    float64\n",
            " 18  concave points_se        569 non-null    float64\n",
            " 19  symmetry_se              569 non-null    float64\n",
            " 20  fractal_dimension_se     569 non-null    float64\n",
            " 21  radius_worst             569 non-null    float64\n",
            " 22  texture_worst            569 non-null    float64\n",
            " 23  perimeter_worst          569 non-null    float64\n",
            " 24  area_worst               569 non-null    float64\n",
            " 25  smoothness_worst         569 non-null    float64\n",
            " 26  compactness_worst        569 non-null    float64\n",
            " 27  concavity_worst          569 non-null    float64\n",
            " 28  concave points_worst     569 non-null    float64\n",
            " 29  symmetry_worst           569 non-null    float64\n",
            " 30  fractal_dimension_worst  569 non-null    float64\n",
            "dtypes: float64(30), int64(1)\n",
            "memory usage: 137.9 KB\n"
          ],
          "name": "stdout"
        }
      ]
    },
    {
      "cell_type": "markdown",
      "metadata": {
        "id": "22g5VOdKgFdj",
        "colab_type": "text"
      },
      "source": [
        "# **REMOVING THE UNNECESSARY COLUMNS**"
      ]
    },
    {
      "cell_type": "code",
      "metadata": {
        "id": "flGcEJJy_Yyl",
        "colab_type": "code",
        "colab": {}
      },
      "source": [
        "df.drop('id',axis=1,inplace=True)\n"
      ],
      "execution_count": 83,
      "outputs": []
    },
    {
      "cell_type": "code",
      "metadata": {
        "id": "a_VlDMUI_00m",
        "colab_type": "code",
        "colab": {}
      },
      "source": [
        "df.drop('Unnamed: 32',axis=1,inplace=True)"
      ],
      "execution_count": 84,
      "outputs": []
    },
    {
      "cell_type": "code",
      "metadata": {
        "id": "fP1g2J-mAUBZ",
        "colab_type": "code",
        "colab": {}
      },
      "source": [
        "sns.heatmap(df.corr())"
      ],
      "execution_count": null,
      "outputs": []
    },
    {
      "cell_type": "markdown",
      "metadata": {
        "id": "K-wtTDO5gVW2",
        "colab_type": "text"
      },
      "source": [
        "# **MAPPING THE LABELS**"
      ]
    },
    {
      "cell_type": "code",
      "metadata": {
        "id": "qxSbhGQkA3V-",
        "colab_type": "code",
        "colab": {}
      },
      "source": [
        "df['diagnosis']=df['diagnosis'].map({'M':1,'B':0})"
      ],
      "execution_count": 86,
      "outputs": []
    },
    {
      "cell_type": "markdown",
      "metadata": {
        "id": "e7Pd18z6ghSp",
        "colab_type": "text"
      },
      "source": [
        "# **SELECTION FEATURES BASED ON CORRELATION**"
      ]
    },
    {
      "cell_type": "code",
      "metadata": {
        "id": "TTr63_WZNtej",
        "colab_type": "code",
        "colab": {
          "base_uri": "https://localhost:8080/",
          "height": 554
        },
        "outputId": "682d40f2-f0c6-4b50-ef83-f04ce8ca3eed"
      },
      "source": [
        "corelation=df.corr()\n",
        "corelation['diagnosis'].sort_values(ascending=False)"
      ],
      "execution_count": 159,
      "outputs": [
        {
          "output_type": "execute_result",
          "data": {
            "text/plain": [
              "diagnosis                  1.000000\n",
              "concave points_worst       0.793566\n",
              "perimeter_worst            0.782914\n",
              "concave points_mean        0.776614\n",
              "radius_worst               0.776454\n",
              "perimeter_mean             0.742636\n",
              "area_worst                 0.733825\n",
              "radius_mean                0.730029\n",
              "area_mean                  0.708984\n",
              "concavity_mean             0.696360\n",
              "concavity_worst            0.659610\n",
              "compactness_mean           0.596534\n",
              "compactness_worst          0.590998\n",
              "radius_se                  0.567134\n",
              "perimeter_se               0.556141\n",
              "area_se                    0.548236\n",
              "texture_worst              0.456903\n",
              "smoothness_worst           0.421465\n",
              "symmetry_worst             0.416294\n",
              "texture_mean               0.415185\n",
              "concave points_se          0.408042\n",
              "smoothness_mean            0.358560\n",
              "symmetry_mean              0.330499\n",
              "fractal_dimension_worst    0.323872\n",
              "compactness_se             0.292999\n",
              "concavity_se               0.253730\n",
              "fractal_dimension_se       0.077972\n",
              "symmetry_se               -0.006522\n",
              "texture_se                -0.008303\n",
              "fractal_dimension_mean    -0.012838\n",
              "smoothness_se             -0.067016\n",
              "Name: diagnosis, dtype: float64"
            ]
          },
          "metadata": {
            "tags": []
          },
          "execution_count": 159
        }
      ]
    },
    {
      "cell_type": "code",
      "metadata": {
        "id": "o5YnFTuMIQUf",
        "colab_type": "code",
        "colab": {}
      },
      "source": [
        "df.head()"
      ],
      "execution_count": null,
      "outputs": []
    },
    {
      "cell_type": "code",
      "metadata": {
        "id": "g9I2ulCEKmg9",
        "colab_type": "code",
        "colab": {}
      },
      "source": [
        "y=df['diagnosis']\n",
        "X=df.iloc[:,1:]\n",
        "outcaster=['fractal_dimension_se','symmetry_se','texture_se','fractal_dimension_mean','smoothness_se']\n",
        "X.drop(columns=outcaster,inplace=True)"
      ],
      "execution_count": 110,
      "outputs": []
    },
    {
      "cell_type": "markdown",
      "metadata": {
        "id": "mxGvT-2bgsRq",
        "colab_type": "text"
      },
      "source": [
        "# **SPLITTING THE DATA INTO TRAINING ANG TESTING DATA**"
      ]
    },
    {
      "cell_type": "code",
      "metadata": {
        "id": "9O4eTtqOJZYt",
        "colab_type": "code",
        "colab": {}
      },
      "source": [
        "Xtrain,Xtest,ytrain,ytest=train_test_split(X,y,test_size=0.3,random_state=42)"
      ],
      "execution_count": 125,
      "outputs": []
    },
    {
      "cell_type": "markdown",
      "metadata": {
        "id": "2UpMafvEiyZg",
        "colab_type": "text"
      },
      "source": [
        "# **FITTING MODEL**"
      ]
    },
    {
      "cell_type": "code",
      "metadata": {
        "id": "OVF8L6CLc4Xn",
        "colab_type": "code",
        "colab": {}
      },
      "source": [
        "def rate(model,xtrain,ytrain):\n",
        "  score=cross_val_score(model,xtrain,ytrain,cv=10,scoring='accuracy')\n",
        "  mean=score.mean()\n",
        "  error=(1-mean)*100\n",
        "  return(score,mean*100,error)\n"
      ],
      "execution_count": 138,
      "outputs": []
    },
    {
      "cell_type": "code",
      "metadata": {
        "id": "pHOlRlLbUoOW",
        "colab_type": "code",
        "colab": {}
      },
      "source": [
        "classifier=RandomForestClassifier(n_estimators=100,min_samples_split=25, max_depth=7, max_features=2)\n",
        "scores,accuracy,error=rate(classifier,Xtrain,ytrain)\n"
      ],
      "execution_count": 142,
      "outputs": []
    },
    {
      "cell_type": "markdown",
      "metadata": {
        "id": "Pj03eMWCjDlh",
        "colab_type": "text"
      },
      "source": [
        "# **TRAINING ACCURACY AND ERROR**"
      ]
    },
    {
      "cell_type": "code",
      "metadata": {
        "id": "zOZlR_F8VhuS",
        "colab_type": "code",
        "colab": {
          "base_uri": "https://localhost:8080/",
          "height": 34
        },
        "outputId": "c74b8fa3-4a54-48a6-eb04-8a7287675107"
      },
      "source": [
        "print('Accuracy rate = '+str(accuracy)+'%')"
      ],
      "execution_count": 156,
      "outputs": [
        {
          "output_type": "stream",
          "text": [
            "Accuracy rate = 94.71794871794872%\n"
          ],
          "name": "stdout"
        }
      ]
    },
    {
      "cell_type": "code",
      "metadata": {
        "id": "jILG8WTSd4q2",
        "colab_type": "code",
        "colab": {
          "base_uri": "https://localhost:8080/",
          "height": 34
        },
        "outputId": "d861411f-652b-4bb0-d5fc-914cd0c4fb9b"
      },
      "source": [
        "print('Error Rate = '+str(error)+'%')"
      ],
      "execution_count": 157,
      "outputs": [
        {
          "output_type": "stream",
          "text": [
            "Error Rate = 5.282051282051281%\n"
          ],
          "name": "stdout"
        }
      ]
    },
    {
      "cell_type": "markdown",
      "metadata": {
        "id": "KH7uGE46jNOz",
        "colab_type": "text"
      },
      "source": [
        "# **TEST ACCURACY AND ERROR**"
      ]
    },
    {
      "cell_type": "code",
      "metadata": {
        "id": "gKchyK-veCOT",
        "colab_type": "code",
        "colab": {}
      },
      "source": [
        "test_score,test_accuracy,test_error=rate(classifier,Xtest,ytest)"
      ],
      "execution_count": 149,
      "outputs": []
    },
    {
      "cell_type": "code",
      "metadata": {
        "id": "krGpZEJghoGN",
        "colab_type": "code",
        "colab": {
          "base_uri": "https://localhost:8080/",
          "height": 34
        },
        "outputId": "52564322-82dc-46e3-d206-aaae635632b3"
      },
      "source": [
        "print('Accuracy rate = '+str(test_accuracy)+'%')"
      ],
      "execution_count": 150,
      "outputs": [
        {
          "output_type": "execute_result",
          "data": {
            "text/plain": [
              "94.70588235294117"
            ]
          },
          "metadata": {
            "tags": []
          },
          "execution_count": 150
        }
      ]
    },
    {
      "cell_type": "code",
      "metadata": {
        "id": "6dSvVtbVhrZt",
        "colab_type": "code",
        "colab": {
          "base_uri": "https://localhost:8080/",
          "height": 34
        },
        "outputId": "60844479-f47d-4bd0-ed53-061010cb7c48"
      },
      "source": [
        "print('Error rate = '+str(test_error)+'%')"
      ],
      "execution_count": 158,
      "outputs": [
        {
          "output_type": "stream",
          "text": [
            "Error rate = 5.294117647058827%\n"
          ],
          "name": "stdout"
        }
      ]
    }
  ]
}